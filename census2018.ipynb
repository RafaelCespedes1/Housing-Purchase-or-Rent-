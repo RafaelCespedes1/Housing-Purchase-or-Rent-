{
 "cells": [
  {
   "cell_type": "code",
   "execution_count": 1,
   "id": "09c82716",
   "metadata": {},
   "outputs": [],
   "source": [
    "# Dependencies\n",
    "import pandas as pd\n",
    "import numpy as np\n",
    "import matplotlib.pyplot as plt\n",
    "import requests\n",
    "from census import Census\n",
    "from sqlalchemy import create_engine"
   ]
  },
  {
   "cell_type": "code",
   "execution_count": 2,
   "id": "a756becd",
   "metadata": {},
   "outputs": [],
   "source": [
    "# Census API Key\n",
    "from config import api_key\n",
    "c = Census(api_key, year=2018)"
   ]
  },
  {
   "cell_type": "code",
   "execution_count": 3,
   "id": "f39d68cb",
   "metadata": {},
   "outputs": [],
   "source": [
    "# Run Census Search to retrieve data on all zip codes (2018 ACS5 Census)\n",
    "# See: https://github.com/CommerceDataService/census-wrapper for library documentation\n",
    "# See: https://gist.github.com/afhaque/60558290d6efd892351c4b64e5c01e\",\n",
    "\n",
    "census_data = c.acs5.get((\"NAME\", \"B19013_001E\", \"B01003_001E\", \"B01002_001E\", \"B19301_001E\", \"B17001_002E\", \"B25034_001E\",\n",
    "                         \"B25034_002E\", \"B25034_003E\", \"B25034_004E\", \"B25034_005E\", \"B25034_006E\", \"B25034_007E\",\n",
    "                         \"B25034_008E\", \"B25034_009E\", \"B25034_010E\", \"B25034_011E\"),{'for': 'zip code tabulation area:*'})"
   ]
  },
  {
   "cell_type": "code",
   "execution_count": 4,
   "id": "871ad0b3",
   "metadata": {},
   "outputs": [],
   "source": [
    "# Convert to DataFrame\n",
    "census_pd = pd.DataFrame(census_data)"
   ]
  },
  {
   "cell_type": "code",
   "execution_count": 5,
   "id": "f17e7515",
   "metadata": {},
   "outputs": [],
   "source": [
    "# Column Reordering\n",
    "census_pd = census_pd.rename(columns={\"B01003_001E\": \"population\",\n",
    "                                      \"B01002_001E\": \"median_age\",\n",
    "                                      \"B19013_001E\": \"median_household_income\",\n",
    "                                      \"B19301_001E\": \"per_capita_income\",\n",
    "                                      \"B17001_002E\": \"poverty_count\",\n",
    "                                      \"B25034_001E\": \"year_structure_built_total\",\n",
    "                                      \"B25034_002E\": \"year_structure_built_2014_or_later\",\n",
    "                                      \"B25034_003E\": \"year_structure_built_2010_to_2013\",\n",
    "                                      \"B25034_004E\": \"year_structure_built_2000_to_2009\",\n",
    "                                      \"B25034_005E\": \"year_structure_built_1990_to_1999\",\n",
    "                                      \"B25034_006E\": \"year_structure_built_1980_to_1989\",\n",
    "                                      \"B25034_007E\": \"year_structure_built_1970_to_1979\",\n",
    "                                      \"B25034_008E\": \"year_structure_built_1960_to_1969\",\n",
    "                                      \"B25034_009E\": \"year_structure_built_1950_to_1959\",\n",
    "                                      \"B25034_010E\": \"year_structure_built_1940_to_1949\",\n",
    "                                      \"B25034_011E\": \"year_structure_built_1939_or_earlier\",\n",
    "                                      \"NAME\": \"name\", \"zip code tabulation area\": \"zipcode\"})"
   ]
  },
  {
   "cell_type": "code",
   "execution_count": 6,
   "id": "e53c159c",
   "metadata": {},
   "outputs": [],
   "source": [
    "# Add in poverty rate (poverty count / population)\n",
    "census_pd[\"poverty_rate\"] = 100 * (census_pd[\"poverty_count\"] / census_pd[\"population\"])"
   ]
  },
  {
   "cell_type": "code",
   "execution_count": 7,
   "id": "9e1393d6",
   "metadata": {},
   "outputs": [],
   "source": [
    "# Final DataFrame\n",
    "\n",
    "census2018_pd = census_pd[[\"zipcode\", \"population\", \"median_age\", \"median_household_income\", \"per_capita_income\",\n",
    "                         \"poverty_count\", \"poverty_rate\", \"year_structure_built_1939_or_earlier\",\n",
    "                         \"year_structure_built_1940_to_1949\", \"year_structure_built_1950_to_1959\",\n",
    "                         \"year_structure_built_1960_to_1969\", \"year_structure_built_1970_to_1979\",\n",
    "                         \"year_structure_built_1980_to_1989\", \"year_structure_built_1990_to_1999\",\n",
    "                         \"year_structure_built_2000_to_2009\", \"year_structure_built_2010_to_2013\",\n",
    "                         \"year_structure_built_2014_or_later\", \"year_structure_built_total\"]]"
   ]
  },
  {
   "cell_type": "code",
   "execution_count": 8,
   "id": "d6dc0c6c",
   "metadata": {},
   "outputs": [],
   "source": [
    "uszipcode5_file = \"uszipcodes.csv\"\n",
    "df_uszipcode5 = pd.read_csv(uszipcode5_file)"
   ]
  },
  {
   "cell_type": "code",
   "execution_count": 9,
   "id": "248d7e19",
   "metadata": {},
   "outputs": [],
   "source": [
    "uszipcode4_file = \"uszipcodes4.csv\"\n",
    "df_uszipcode4 = pd.read_csv(uszipcode4_file)"
   ]
  },
  {
   "cell_type": "code",
   "execution_count": 10,
   "id": "63c7c7a8",
   "metadata": {},
   "outputs": [],
   "source": [
    "uszipcode3_file = \"uszipcodes3.csv\"\n",
    "df_uszipcode3 = pd.read_csv(uszipcode3_file)"
   ]
  },
  {
   "cell_type": "code",
   "execution_count": 11,
   "id": "17d4f028",
   "metadata": {},
   "outputs": [],
   "source": [
    "## Add leading zeros to the integer column in Python\n",
    "\n",
    "df_uszipcode3['zipcode']=df_uszipcode3['zipcode'].apply(lambda x: '{0:0>5}'.format(x))"
   ]
  },
  {
   "cell_type": "code",
   "execution_count": 12,
   "id": "928c9197",
   "metadata": {},
   "outputs": [],
   "source": [
    "## Add leading zeros to the integer column in Python\n",
    "\n",
    "df_uszipcode4['zipcode']=df_uszipcode4['zipcode'].apply(lambda x: '{0:0>5}'.format(x))"
   ]
  },
  {
   "cell_type": "code",
   "execution_count": 13,
   "id": "f9b536d7",
   "metadata": {},
   "outputs": [],
   "source": [
    "df_uszipcode5['zipcode']=df_uszipcode5['zipcode'].apply(lambda x: '{0:0>5}'.format(x))"
   ]
  },
  {
   "cell_type": "code",
   "execution_count": 14,
   "id": "3cba1a35",
   "metadata": {},
   "outputs": [],
   "source": [
    "tempzip = [df_uszipcode3, df_uszipcode4, df_uszipcode5]\n",
    "df_uszipcode = pd.concat(tempzip)"
   ]
  },
  {
   "cell_type": "code",
   "execution_count": 15,
   "id": "ffd57a23",
   "metadata": {},
   "outputs": [],
   "source": [
    "census_combined_pd = pd.merge(census2018_pd, df_uszipcode, on = \"zipcode\", how = \"outer\")"
   ]
  },
  {
   "cell_type": "code",
   "execution_count": 16,
   "id": "ed89aaf1",
   "metadata": {},
   "outputs": [],
   "source": [
    "# Save as a csv\n",
    "# Note to avoid any issues later, use encoding=\"utf-8\"\n",
    "census_combined_pd.to_csv(\"census_data_2018.csv\", encoding=\"utf-8\", index=False)"
   ]
  }
 ],
 "metadata": {
  "kernelspec": {
   "display_name": "Python 3",
   "language": "python",
   "name": "python3"
  },
  "language_info": {
   "codemirror_mode": {
    "name": "ipython",
    "version": 3
   },
   "file_extension": ".py",
   "mimetype": "text/x-python",
   "name": "python",
   "nbconvert_exporter": "python",
   "pygments_lexer": "ipython3",
   "version": "3.7.10"
  }
 },
 "nbformat": 4,
 "nbformat_minor": 5
}
